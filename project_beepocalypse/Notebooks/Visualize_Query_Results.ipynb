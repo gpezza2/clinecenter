{
 "cells": [
  {
   "cell_type": "markdown",
   "metadata": {},
   "source": [
    "# Visualize Query Results\n",
    "\n",
    "Jenna Jordan\n",
    "\n",
    "23 January 2020 - 4 February 2020"
   ]
  },
  {
   "cell_type": "code",
   "execution_count": 1,
   "metadata": {},
   "outputs": [],
   "source": [
    "import pandas as pd\n",
    "import numpy as np\n",
    "import ipywidgets as widgets\n",
    "import plotly.express as px\n",
    "from IPython.display import display\n",
    "from IPython.display import clear_output"
   ]
  },
  {
   "cell_type": "code",
   "execution_count": 2,
   "metadata": {},
   "outputs": [],
   "source": [
    "df1 = pd.read_csv('../Data/queries_4Feb.csv', parse_dates=['publication_date'], dtype={'publisher':'category'})"
   ]
  },
  {
   "cell_type": "code",
   "execution_count": 3,
   "metadata": {},
   "outputs": [],
   "source": [
    "df2 = pd.read_csv('../Data/queries2_4Feb.csv', parse_dates=['publication_date'], dtype={'publisher':'category'})"
   ]
  },
  {
   "cell_type": "code",
   "execution_count": 4,
   "metadata": {},
   "outputs": [],
   "source": [
    "df3 = pd.read_csv('../Data/queries1_6Feb.csv', parse_dates=['publication_date'], dtype={'publisher':'category'})"
   ]
  },
  {
   "cell_type": "code",
   "execution_count": 5,
   "metadata": {},
   "outputs": [],
   "source": [
    "df = df1.merge(df2, on=['publication_date', 'publisher']).merge(df3, on=['publication_date', 'publisher'])"
   ]
  },
  {
   "cell_type": "code",
   "execution_count": 6,
   "metadata": {},
   "outputs": [],
   "source": [
    "df = df.set_index('publication_date').groupby('publisher').resample('M').sum()"
   ]
  },
  {
   "cell_type": "code",
   "execution_count": 7,
   "metadata": {},
   "outputs": [],
   "source": [
    "df_count = df.stack().to_frame()\n",
    "df_count.columns = ['count']\n",
    "df_count.index.names = ['publisher', 'publication_date', 'query']\n",
    "df_count = df_count.reset_index(['publication_date', 'publisher', 'query'])"
   ]
  },
  {
   "cell_type": "code",
   "execution_count": 8,
   "metadata": {},
   "outputs": [],
   "source": [
    "df_prop = df.copy()\n",
    "for c in df_prop.columns:\n",
    "    if c == 'BLN_total':\n",
    "        pass\n",
    "    else:\n",
    "        df_prop[c] = df_prop[c] / df_prop.BLN_total\n",
    "df_prop = df_prop.drop(columns=['BLN_total'])\n",
    "\n",
    "df_prop = df_prop.stack().to_frame()\n",
    "df_prop.columns = ['proportion']\n",
    "df_prop.index.names = ['publisher', 'publication_date', 'query']\n",
    "df_prop = df_prop.reset_index(['publication_date', 'publisher', 'query'])"
   ]
  },
  {
   "cell_type": "code",
   "execution_count": 9,
   "metadata": {},
   "outputs": [],
   "source": [
    "df_viz = df_count.merge(df_prop, on=['publisher', 'publication_date', 'query'], how='outer')"
   ]
  },
  {
   "cell_type": "markdown",
   "metadata": {},
   "source": [
    "## Queries\n",
    "\n",
    "#### BLN_total\n",
    "\n",
    "```\n",
    "(content:*) \n",
    "AND source_name:BulkLexisNexis\n",
    "```\n",
    "\n",
    "#### climate_change\n",
    "\n",
    "```\n",
    "(content:\"climate change\") \n",
    "AND source_name:BulkLexisNexis\n",
    "```\n",
    "\n",
    "\n",
    "#### global_warming\n",
    "\n",
    "```\n",
    "(content:\"global warming\") \n",
    "AND source_name:BulkLexisNexis\n",
    "```\n",
    "\n",
    "#### pollinator_population\n",
    "\n",
    "```\n",
    "(content:\n",
    "    (insect* OR pollinator* OR bee* OR honeybee* OR butterfl* OR moth*) \n",
    "    AND (population OR *diversity OR biomass OR ecolog* OR ecosystem* OR entomolog*)\n",
    ") \n",
    "AND source_name:BulkLexisNexis\n",
    "```\n",
    "\n",
    "#### pollinator_crisis\n",
    "\n",
    "```\n",
    "(content:\n",
    "    (insect* OR pollinator* OR bee* OR honeybee* OR butterfl* OR moth*) \n",
    "    AND (population OR *diversity OR biomass OR ecolog* OR ecosystem* OR entomolog*) \n",
    "    AND (crisis OR \"colony collapse\" OR apocalypse OR extinct* OR declin* OR drop OR decreas* OR disappear*)\n",
    ") \n",
    "AND source_name:BulkLexisNexis\n",
    "```\n",
    "\n",
    "#### insect_apocalypse\n",
    "\n",
    "```\n",
    "(content:\"insect apocalypse\") \n",
    "AND source_name:BulkLexisNexis\n",
    "```\n",
    "\n",
    "#### insect_armageddon\n",
    "\n",
    "```\n",
    "(content:\"insect armageddon\") \n",
    "AND source_name:BulkLexisNexis\n",
    "```\n",
    "\n",
    "#### colony_collapse\n",
    "\n",
    "```\n",
    "(content:\"colony collapse\") \n",
    "AND source_name:BulkLexisNexis\n",
    "```\n",
    "\n",
    "#### pollinator_population_refined\n",
    "```\n",
    "(content: \n",
    "    (insect* OR pollinator* OR bee OR bees OR honeybee OR honeybees OR butterfly OR butterflies OR moth OR moths) \n",
    "    AND (population OR \"biological diversity\" OR biodiversity OR biomass OR ecolog* OR ecosystem* OR entomolog*) \n",
    "    AND (study OR professor OR experiment OR research OR analysis)\n",
    "    ) \n",
    "AND source_name:BulkLexisNexis\n",
    "```\n",
    "\n",
    "#### pollinator_decline_refined\n",
    "```\n",
    "(content: \n",
    "    (insect* OR pollinator* OR bee OR bees OR honeybee OR honeybees OR butterfly OR butterflies OR moth OR moths) \n",
    "    AND (population OR \"biological diversity\" OR biodiversity OR biomass OR ecolog* OR ecosystem* OR entomolog*) \n",
    "    AND (study OR professor OR experiment OR research OR analysis)\n",
    "    AND (\n",
    "        (crisis OR \"colony collapse\" OR apocalypse OR extinct* OR drop OR decreas* OR disappear*)\n",
    "        OR (\"insect decline\"~5 OR \"population decline\"~5 OR \")\n",
    "        )\n",
    "    ) \n",
    "AND source_name:BulkLexisNexis\n",
    "```\n",
    "\n",
    "#### cc_and_gw\n",
    "\n",
    "```\n",
    "(content:\"climate change\" OR \"global warming\") \n",
    "AND source_name:BulkLexisNexis\n",
    "```"
   ]
  },
  {
   "cell_type": "code",
   "execution_count": 9,
   "metadata": {},
   "outputs": [],
   "source": [
    "publisher_options = [('New York Times', 'NYT'), ('Washington Post', 'WP'), ('Summary of World Broadcasts', 'SWB'), \n",
    "             ('Associated Press', 'AP'), ('Agence France Presse', 'AFP'), ('Xinhua General News Service', 'XGNS'), \n",
    "             ('United Press International', 'UPI'), ('Deutsche Presse-Agentur', 'DPA'), ('Inter Press Service', 'IPS')]\n",
    "query_options = list(df_viz['query'].unique())"
   ]
  },
  {
   "cell_type": "code",
   "execution_count": 10,
   "metadata": {},
   "outputs": [],
   "source": [
    "choose_CountOrProp = widgets.ToggleButtons(\n",
    "    options=[('Count', 'count'), ('Proportion', 'proportion')],\n",
    "    description='Article: ', layout=widgets.Layout(width='25%')\n",
    ")"
   ]
  },
  {
   "cell_type": "code",
   "execution_count": 11,
   "metadata": {},
   "outputs": [],
   "source": [
    "choose_comparison = widgets.ToggleButtons(\n",
    "    options=[('Queries', 'publisher'), ('Publishers', 'query')],\n",
    "    description='Compare: ', layout=widgets.Layout(width='25%')\n",
    ")"
   ]
  },
  {
   "cell_type": "code",
   "execution_count": 12,
   "metadata": {},
   "outputs": [],
   "source": [
    "choose_filter = widgets.Dropdown(options=publisher_options, description='Choose: ', layout=widgets.Layout(width='25%'))"
   ]
  },
  {
   "cell_type": "code",
   "execution_count": 13,
   "metadata": {},
   "outputs": [],
   "source": [
    "plot_button = widgets.Button(description=\"Plot\")"
   ]
  },
  {
   "cell_type": "code",
   "execution_count": 14,
   "metadata": {},
   "outputs": [],
   "source": [
    "clear_button = widgets.Button(description=\"Clear plots\")"
   ]
  },
  {
   "cell_type": "code",
   "execution_count": 15,
   "metadata": {},
   "outputs": [],
   "source": [
    "# set up control box organization\n",
    "buttons = widgets.VBox(children=[plot_button, clear_button], layout=widgets.Layout(width='25%'))\n",
    "graph_controls = widgets.HBox(children=[choose_CountOrProp, choose_comparison, choose_filter, buttons])\n",
    "\n",
    "# if \"Compare\" changes, change the options for \"Choose\"\n",
    "def change_graph_controls(change):\n",
    "    graph_comparison_type = change['new']\n",
    "    if graph_comparison_type == 'publisher':\n",
    "        choose_filter.options = publisher_options\n",
    "    elif graph_comparison_type == 'query':\n",
    "        choose_filter.options = query_options\n",
    "\n",
    "choose_comparison.observe(change_graph_controls, ['value'])\n",
    "\n",
    "# function to create the plot\n",
    "def create_plot(query_column = choose_comparison.value, query_value = choose_filter.value, y_axis = choose_CountOrProp.value):\n",
    "    if query_column  == 'publisher':\n",
    "        color = 'query'\n",
    "    elif query_column  == 'query':\n",
    "        color = 'publisher'\n",
    "    \n",
    "    query_text = query_column + \"=='\" + query_value + \"'\"\n",
    "    title_text = query_column + \": \" + query_value\n",
    "    fig = px.line(df_viz.query(query_text), x=\"publication_date\", y=y_axis, color=color, title=title_text)\n",
    "    fig.update_layout(xaxis_rangeslider_visible=True)\n",
    "    \n",
    "    return fig\n",
    "\n",
    "out = widgets.Output()\n",
    "with out:\n",
    "    display(graph_controls)\n",
    "\n",
    "# when \"add chart\" button is clicked, add new chart below\n",
    "def add_plot(b):\n",
    "    with out:\n",
    "        fig = create_plot(query_column = choose_comparison.value, query_value = choose_filter.value, y_axis = choose_CountOrProp.value)\n",
    "        display(fig)\n",
    "\n",
    "plot_button.on_click(add_plot)\n",
    "\n",
    "# when \"new plot\" button is clicked, clear all plots and generate a new plot\n",
    "def clear_plots(b):\n",
    "    with out:\n",
    "        out.clear_output()\n",
    "        display(graph_controls)\n",
    "    \n",
    "clear_button.on_click(clear_plots)"
   ]
  },
  {
   "cell_type": "code",
   "execution_count": 16,
   "metadata": {},
   "outputs": [
    {
     "data": {
      "application/vnd.jupyter.widget-view+json": {
       "model_id": "36d576aef97149239f218082478c842c",
       "version_major": 2,
       "version_minor": 0
      },
      "text/plain": [
       "Output()"
      ]
     },
     "metadata": {},
     "output_type": "display_data"
    }
   ],
   "source": [
    "display(out)"
   ]
  }
 ],
 "metadata": {
  "kernelspec": {
   "display_name": "Python 3",
   "language": "python",
   "name": "python3"
  },
  "language_info": {
   "codemirror_mode": {
    "name": "ipython",
    "version": 3
   },
   "file_extension": ".py",
   "mimetype": "text/x-python",
   "name": "python",
   "nbconvert_exporter": "python",
   "pygments_lexer": "ipython3",
   "version": "3.8.1"
  }
 },
 "nbformat": 4,
 "nbformat_minor": 2
}
